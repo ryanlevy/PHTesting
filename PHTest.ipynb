{
 "cells": [
  {
   "cell_type": "code",
   "execution_count": 1,
   "id": "b0b13ce2-23b0-41df-8a22-332ddaa4b044",
   "metadata": {},
   "outputs": [
    {
     "name": "stderr",
     "output_type": "stream",
     "text": [
      "Matplotlib is building the font cache; this may take a moment.\n"
     ]
    }
   ],
   "source": [
    "import numpy as np\n",
    "import matplotlib.pyplot as plt"
   ]
  },
  {
   "cell_type": "code",
   "execution_count": 2,
   "id": "521155bc-5549-4cfd-b92d-35226d7c56b3",
   "metadata": {},
   "outputs": [],
   "source": [
    "import scipy.linalg as sl"
   ]
  },
  {
   "cell_type": "code",
   "execution_count": 440,
   "id": "1c57ff2c-20b7-4b5d-9bbc-e66ce155648d",
   "metadata": {},
   "outputs": [],
   "source": [
    "import afqmctools.systems.lattice as lat\n",
    "from afqmctools.observables.greens import greens_1body"
   ]
  },
  {
   "cell_type": "code",
   "execution_count": 437,
   "id": "5e175cc4-49ad-4a8b-9070-5821b7d9dff9",
   "metadata": {},
   "outputs": [],
   "source": [
    "Nx,Ny = 4,4\n",
    "N = Nx*Ny\n",
    "T = np.zeros((N,N))\n",
    "for i in range(Nx):\n",
    "    for j in range(Ny):\n",
    "        a,b = i*Ny+j,i*Ny+(j+1)%Ny\n",
    "        T[a,b] += -1\n",
    "        T[b,a] += -1\n",
    "        a,b = i*Ny+j,((i+1)%Nx)*Ny+j\n",
    "        T[a,b] += -1\n",
    "        T[b,a] += -1\n",
    "assert np.allclose(T,T.conj().T)"
   ]
  },
  {
   "cell_type": "code",
   "execution_count": 683,
   "id": "6aee26b2-1ea9-4dda-806e-3a81b88999db",
   "metadata": {},
   "outputs": [],
   "source": [
    "lattice = lat.SquareLattice(\n",
    "            L=(4,4),\n",
    "            axis1_boundary=lat.PBCBoundary,\n",
    "            axis2_boundary=lat.PBCBoundary,\n",
    "            )"
   ]
  },
  {
   "cell_type": "code",
   "execution_count": 634,
   "id": "4cba6259-b4b9-47fa-a6cb-d634ed5b9845",
   "metadata": {},
   "outputs": [],
   "source": [
    "lams,vecs = np.linalg.eigh(T)\n",
    "# filled orbitals, and unfilled (virtual) orbitals\n",
    "of,ov = vecs[:,:8], vecs[:,8:]"
   ]
  },
  {
   "cell_type": "code",
   "execution_count": 635,
   "id": "c6caa1b7-c839-45d2-989f-e448eff5ad08",
   "metadata": {},
   "outputs": [
    {
     "data": {
      "text/plain": [
       "(np.float64(-12.0), np.float64(-12.0))"
      ]
     },
     "execution_count": 635,
     "metadata": {},
     "output_type": "execute_result"
    }
   ],
   "source": [
    "g_up,g_dn = greens_1body(of),greens_1body(of)\n",
    "np.sum(g_up*T), np.sum(g_dn*T)"
   ]
  },
  {
   "cell_type": "code",
   "execution_count": 636,
   "id": "6addd89e-b7c7-4c0e-9c2a-61783da28cdb",
   "metadata": {},
   "outputs": [
    {
     "data": {
      "text/plain": [
       "np.float64(-9.265465844048927)"
      ]
     },
     "execution_count": 636,
     "metadata": {},
     "output_type": "execute_result"
    }
   ],
   "source": [
    "o_up,o_dn = of,of\n",
    "g_up,g_dn = greens_1body(o_up),greens_1body(o_dn)\n",
    "\n",
    "U=3.5\n",
    "np.sum(T*g_up)+np.sum((g_dn)*T)+ U*(g_up.diagonal()@g_dn.diagonal()) "
   ]
  },
  {
   "cell_type": "markdown",
   "id": "705cf853-90f4-4cda-b10b-c9ca0933c6de",
   "metadata": {},
   "source": [
    "#### Full Transform"
   ]
  },
  {
   "cell_type": "markdown",
   "id": "180349d0-ddb5-40e7-ba98-728a3745f045",
   "metadata": {},
   "source": [
    "Particle Hole Transformation\n",
    "$$\n",
    "c_{i\\sigma} \\to (-1)^i d^\\dagger_{i\\sigma} \n",
    "$$\n",
    "$$\n",
    "\\langle c^\\dagger_{i\\sigma} c_{j\\sigma}\\rangle \\to \\langle \\delta_{ij} -d^\\dagger_{i\\sigma} d_{j\\sigma}\\rangle\n",
    "$$\n",
    "\n",
    "This means that $E_K \\to E_K$ and $U \\to U$ because of Hubbard model PH symmetry\n"
   ]
  },
  {
   "cell_type": "code",
   "execution_count": 637,
   "id": "9273bd00-dda6-433c-8bcf-12a13a55a83b",
   "metadata": {},
   "outputs": [],
   "source": [
    "signs_v = (-1)**(np.array([np.sum(s.coord)  for s in lattice.sites]))\n",
    "signs = np.outer(signs_v,signs_v)\n"
   ]
  },
  {
   "cell_type": "code",
   "execution_count": 638,
   "id": "19b07493-8422-4d59-ba36-5157e52c2d38",
   "metadata": {},
   "outputs": [
    {
     "data": {
      "text/plain": [
       "np.float64(-9.265465844048931)"
      ]
     },
     "execution_count": 638,
     "metadata": {},
     "output_type": "execute_result"
    }
   ],
   "source": [
    "o_up,o_dn = signs_v.reshape(N,1)* ov,signs_v.reshape(N,1)* ov\n",
    "\n",
    "g_up,g_dn =np.eye(N)-greens_1body(o_up)*signs,np.eye(N)-greens_1body(o_dn)*signs\n",
    "\n",
    "U=3.5\n",
    "np.sum(T*(g_up))+np.sum((g_dn)*T)+ U*(g_up.diagonal()@(g_dn.diagonal())) \n"
   ]
  },
  {
   "cell_type": "markdown",
   "id": "23621fa2-b39d-41e4-a232-07e9e0cfb626",
   "metadata": {},
   "source": [
    "#### Partial Transform"
   ]
  },
  {
   "cell_type": "markdown",
   "id": "b7f140ec-cc11-4b7a-9440-cc2df10b5b14",
   "metadata": {},
   "source": [
    "Particle Hole Transformation\n",
    "$$\n",
    "c_{i\\uparrow} \\to d_{i\\uparrow} \n",
    "$$\n",
    "$$\n",
    "c_{i\\downarrow} \\to (-1)^i d^\\dagger_{i\\downarrow}\n",
    "$$\n",
    "\n",
    "This means that $E_K \\to E_K$ but $U \\to -U$\n",
    "\n",
    "Also $\\langle c^\\dagger_{i\\downarrow} c_{j\\downarrow}\\rangle \\to \\langle \\delta_{ij} -d^\\dagger_{i\\downarrow} d_{j\\downarrow}\\rangle$ "
   ]
  },
  {
   "cell_type": "code",
   "execution_count": 639,
   "id": "e102fbef-4338-4fb2-b6f5-121f6edd847f",
   "metadata": {},
   "outputs": [
    {
     "data": {
      "text/plain": [
       "np.float64(-9.265465844048931)"
      ]
     },
     "execution_count": 639,
     "metadata": {},
     "output_type": "execute_result"
    }
   ],
   "source": [
    "o_up,o_dn = of,signs_v.reshape(N,1)* ov\n",
    "g_up,g_dn = greens_1body(o_up),np.eye(N)-signs*greens_1body(o_dn)\n",
    "\n",
    "U=3.5\n",
    "# see 10.1103/PhysRevX.10.031016 for formula\n",
    "np.sum(T*(g_up))+np.sum((g_dn)*T)+ U*(g_up.diagonal()@(g_dn.diagonal())) \n"
   ]
  },
  {
   "cell_type": "markdown",
   "id": "2a5fe905-3561-47b4-a972-7a86327af263",
   "metadata": {},
   "source": [
    "Alternate way to write the above"
   ]
  },
  {
   "cell_type": "code",
   "execution_count": 640,
   "id": "0c2f7acc-6657-4ff5-b737-b35289f148b7",
   "metadata": {},
   "outputs": [
    {
     "data": {
      "text/plain": [
       "np.float64(-9.265465844048933)"
      ]
     },
     "execution_count": 640,
     "metadata": {},
     "output_type": "execute_result"
    }
   ],
   "source": [
    "o_up,o_dn = of,signs_v.reshape(N,1)* ov\n",
    "g_up,g_dn = greens_1body(o_up),greens_1body(o_dn)\n",
    "\n",
    "U=3.5\n",
    "# see 10.1103/PhysRevX.10.031016 for formula\n",
    "np.sum(T*(g_up))+np.sum((g_dn)*T)+ -U*(g_up.diagonal()@(g_dn.diagonal())) + U*np.sum(g_up.diagonal())\n"
   ]
  },
  {
   "cell_type": "markdown",
   "id": "ff4535be-0e2c-40c7-8dc0-97ed596524e9",
   "metadata": {},
   "source": [
    "These are all partial transforms that work out"
   ]
  },
  {
   "cell_type": "markdown",
   "id": "9f737c37-60ae-4f61-9d09-7262cf641a2b",
   "metadata": {},
   "source": [
    "#### Random Orbitals (RHF)"
   ]
  },
  {
   "cell_type": "code",
   "execution_count": 641,
   "id": "c67a7e0e-aeaa-45a6-80de-20ed3a01108b",
   "metadata": {},
   "outputs": [
    {
     "name": "stdout",
     "output_type": "stream",
     "text": [
      "4.80693418845771\n",
      "4.806934188457705\n"
     ]
    }
   ],
   "source": [
    "rng = np.random.default_rng(42)\n",
    "ot = rng.random(of.shape)\n",
    "ot = np.linalg.qr(ot)[0]\n",
    "gt = greens_1body(ot)\n",
    "\n",
    "g_up,g_dn = greens_1body(gt),greens_1body(gt)\n",
    "print(np.sum(T*g_up)+np.sum((g_dn)*T)+ U*(g_up.diagonal()@g_dn.diagonal()) )\n",
    "\n",
    "# virtual orbitals\n",
    "gtv = signs_v.reshape(N,1)*sl.null_space(gt)\n",
    "\n",
    "g_up,g_dn = np.eye(N)-signs*greens_1body(gtv),np.eye(N)-signs*greens_1body(gtv)\n",
    "print(np.sum(T*(g_up))+np.sum((g_dn)*T)+ U*(g_up.diagonal()@(g_dn.diagonal())) )"
   ]
  },
  {
   "cell_type": "markdown",
   "id": "63c69cc8-adad-497c-bdce-a3d2ecba0cdb",
   "metadata": {},
   "source": [
    "### Rank Deficient (doped)"
   ]
  },
  {
   "cell_type": "code",
   "execution_count": 642,
   "id": "8183d150-8494-4dc7-838f-26d915726880",
   "metadata": {},
   "outputs": [
    {
     "name": "stdout",
     "output_type": "stream",
     "text": [
      "3.892250945395796\n",
      "3.8922509453957974\n"
     ]
    }
   ],
   "source": [
    "rng = np.random.default_rng(42)\n",
    "Trand = rng.random((N,N))\n",
    "Trand += Trand.T.conj()\n",
    "Trand -= np.diag(Trand.diagonal())\n",
    "lr,vecs_r = np.linalg.eigh(Trand)\n",
    "\n",
    "ot = vecs_r[:,:3]\n",
    "gt = greens_1body(ot)\n",
    "\n",
    "g_up,g_dn = greens_1body(gt),greens_1body(gt)\n",
    "print(np.sum(T*g_up)+np.sum((g_dn)*T)+ U*(g_up.diagonal()@g_dn.diagonal()) )\n",
    "\n",
    "\n",
    "gtv = signs_v.reshape(N,1)*sl.null_space(gt)\n",
    "\n",
    "g_up,g_dn = np.eye(N)-signs*greens_1body(gtv),np.eye(N)-signs*greens_1body(gtv)\n",
    "print(np.sum(T*(g_up))+np.sum((g_dn)*T)+ U*(g_up.diagonal()@(g_dn.diagonal())) )"
   ]
  },
  {
   "cell_type": "markdown",
   "id": "1e893675-3e3f-43a3-9648-fffec06bcfe8",
   "metadata": {},
   "source": [
    "Why did this work? Because we used the null space which filled more orbitals than we should have. If we repeat this with the proper filling setup"
   ]
  },
  {
   "cell_type": "code",
   "execution_count": 643,
   "id": "0ff9dcc4-b7c6-428e-a7ed-d14f9183abcc",
   "metadata": {},
   "outputs": [
    {
     "name": "stdout",
     "output_type": "stream",
     "text": [
      "43.5094906548905\n"
     ]
    }
   ],
   "source": [
    "\n",
    "\n",
    "gtv = signs_v.reshape(N,1)*vecs_r[:,-3:]\n",
    "\n",
    "g_up,g_dn = np.eye(N)-signs*greens_1body(gtv),np.eye(N)-signs*greens_1body(gtv)\n",
    "print(np.sum(T*(g_up))+np.sum((g_dn)*T)+ U*(g_up.diagonal()@(g_dn.diagonal())) )"
   ]
  },
  {
   "cell_type": "markdown",
   "id": "15c44643-56a3-4245-89e3-9e5659a66ad2",
   "metadata": {},
   "source": [
    "And now we see it properly break"
   ]
  },
  {
   "cell_type": "markdown",
   "id": "fa300c17-c64c-4edf-9999-6ab7f0b31103",
   "metadata": {},
   "source": [
    "## Charge Fields (chemical potential)"
   ]
  },
  {
   "cell_type": "markdown",
   "id": "ac786ad6-4c03-4150-bd46-4cc3a4212137",
   "metadata": {},
   "source": [
    "Adding a charge field $H_B = \\sum_i h_i n_i = \\sum_i h_i(n_{i\\uparrow}+n_{i\\downarrow})$ "
   ]
  },
  {
   "cell_type": "code",
   "execution_count": 644,
   "id": "43be3148-b0f0-4f13-8909-17e9e26317b0",
   "metadata": {},
   "outputs": [],
   "source": [
    "rng = np.random.default_rng(42)\n",
    "# h_i = rng.random(N)\n",
    "h_i = np.ones(N)*-U/2\n",
    "Tup = T+np.diag(h_i)\n",
    "Tdn = Tup\n",
    "\n",
    "lamsB,vecsB = np.linalg.eigh(Tup)\n",
    "# filled orbitals, and unfilled (virtual) orbitals\n",
    "ofB_up,ovB_up = vecsB[:,:8], vecsB[:,8:]\n",
    "\n",
    "\n",
    "lamsB2,vecsB2 = np.linalg.eigh(Tdn)\n",
    "# filled orbitals, and unfilled (virtual) orbitals\n",
    "ofB_dn,ovB_dn = vecsB2[:,:8], vecsB2[:,8:]"
   ]
  },
  {
   "cell_type": "code",
   "execution_count": 645,
   "id": "4f97f88f-0d01-4dff-83ed-6e21f182c62a",
   "metadata": {},
   "outputs": [
    {
     "data": {
      "text/plain": [
       "np.float64(-37.12489193478544)"
      ]
     },
     "execution_count": 645,
     "metadata": {},
     "output_type": "execute_result"
    }
   ],
   "source": [
    "o_up,o_dn = ofB_up,ofB_dn\n",
    "g_up,g_dn = greens_1body(o_up),greens_1body(o_dn)\n",
    "\n",
    "U=3.5\n",
    "np.sum((Tup)*g_up)+np.sum((g_dn)*Tdn)+ U*(g_up.diagonal()@g_dn.diagonal())"
   ]
  },
  {
   "cell_type": "markdown",
   "id": "95d06406-2e45-42db-8754-5f50d89501b8",
   "metadata": {},
   "source": [
    "the charge is transformed by \n",
    "$$\n",
    "n_i \\to 1-m_{i\\uparrow} + 1-m_{i\\downarrow} = 2-n_i\n",
    "$$"
   ]
  },
  {
   "cell_type": "code",
   "execution_count": 646,
   "id": "8067ed8f-368f-4e7d-8a4d-11e99694ea0f",
   "metadata": {},
   "outputs": [
    {
     "data": {
      "text/plain": [
       "np.float64(-37.12489193478544)"
      ]
     },
     "execution_count": 646,
     "metadata": {},
     "output_type": "execute_result"
    }
   ],
   "source": [
    "o_up,o_dn = signs_v.reshape(N,1)* ovB_up,signs_v.reshape(N,1)* ovB_dn\n",
    "g_up,g_dn =np.eye(N)-greens_1body(o_up)*signs,np.eye(N)-greens_1body(o_dn)*signs\n",
    "\n",
    "U=3.5\n",
    "Tup2,Tdn2 = T+np.diag(-h_i), T+np.diag(-h_i)\n",
    "\n",
    "np.sum((Tup2)*(g_up))+np.sum((g_dn)*(Tdn2))+ U*(g_up.diagonal()@(g_dn.diagonal())) + 2*np.sum(h_i)\n"
   ]
  },
  {
   "cell_type": "markdown",
   "id": "29aded1d-9b43-481f-b251-4689fb694efa",
   "metadata": {},
   "source": [
    "### Different Chemical Potential"
   ]
  },
  {
   "cell_type": "code",
   "execution_count": 653,
   "id": "16d0d53f-0030-47eb-9a67-a94d5594d5f5",
   "metadata": {},
   "outputs": [],
   "source": [
    "rng = np.random.default_rng(42)\n",
    "h_i = -rng.random(N)\n",
    "# h_i = np.ones(N)*-0.1\n",
    "Tup = T+np.diag(h_i)\n",
    "Tdn = Tup\n",
    "\n",
    "lamsB,vecsB = np.linalg.eigh(Tup)\n",
    "# filled orbitals, and unfilled (virtual) orbitals\n",
    "ofB_up,ovB_up = vecsB[:,:8], vecsB[:,8:]\n",
    "\n",
    "\n",
    "lamsB2,vecsB2 = np.linalg.eigh(Tdn)\n",
    "# filled orbitals, and unfilled (virtual) orbitals\n",
    "ofB_dn,ovB_dn = vecsB2[:,:8], vecsB2[:,8:]"
   ]
  },
  {
   "cell_type": "code",
   "execution_count": 654,
   "id": "b5638aa7-2419-41d5-ae9e-42527c94bb3c",
   "metadata": {},
   "outputs": [
    {
     "data": {
      "text/plain": [
       "np.float64(-18.70601738095342)"
      ]
     },
     "execution_count": 654,
     "metadata": {},
     "output_type": "execute_result"
    }
   ],
   "source": [
    "o_up,o_dn = ofB_up,ofB_dn\n",
    "g_up,g_dn = greens_1body(o_up),greens_1body(o_dn)\n",
    "\n",
    "U=3.5\n",
    "np.sum((Tup)*g_up)+np.sum((g_dn)*Tdn)+ U*(g_up.diagonal()@g_dn.diagonal())"
   ]
  },
  {
   "cell_type": "code",
   "execution_count": 655,
   "id": "a9a04d78-426f-4491-8e91-70ef554c8ee6",
   "metadata": {},
   "outputs": [
    {
     "data": {
      "text/plain": [
       "np.float64(-16.61937267417322)"
      ]
     },
     "execution_count": 655,
     "metadata": {},
     "output_type": "execute_result"
    }
   ],
   "source": [
    "o_up,o_dn = signs_v.reshape(N,1)* ovB_up,signs_v.reshape(N,1)* ovB_dn\n",
    "g_up,g_dn =np.eye(N)-greens_1body(o_up)*signs,np.eye(N)-greens_1body(o_dn)*signs\n",
    "\n",
    "U=3.5\n",
    "Tup2,Tdn2 = T+np.diag(-h_i), T+np.diag(-h_i)\n",
    "\n",
    "np.sum((Tup2)*(g_up))+np.sum((g_dn)*(Tdn2))+ U*(g_up.diagonal()@(g_dn.diagonal())) + 2*np.sum(h_i)\n"
   ]
  },
  {
   "cell_type": "markdown",
   "id": "f106dc79-746e-4848-bb32-8ce14070c517",
   "metadata": {},
   "source": [
    "## B Field (collinear)\n",
    "\n",
    "Adding a magnetic field $H_B = \\sum_i h_i S_z = \\sum_i h_i \\frac{1}{2}(n_{i\\uparrow}-n_{i\\downarrow})$ "
   ]
  },
  {
   "cell_type": "code",
   "execution_count": 678,
   "id": "2e5c1de9-de6a-4b9f-ba51-458815c020d8",
   "metadata": {},
   "outputs": [],
   "source": [
    "rng = np.random.default_rng(42)\n",
    "h_i = rng.random(N)*0.1/2\n",
    "# h_i = np.ones(N)* 0.1\n",
    "Tup,Tdn = T+np.diag(h_i), T-np.diag(h_i)\n",
    "\n",
    "lamsB,vecsB = np.linalg.eigh(Tup)\n",
    "# filled orbitals, and unfilled (virtual) orbitals\n",
    "ofB_up,ovB_up = vecsB[:,:8], vecsB[:,8:]\n",
    "\n",
    "\n",
    "lamsB2,vecsB2 = np.linalg.eigh(Tdn)\n",
    "# filled orbitals, and unfilled (virtual) orbitals\n",
    "ofB_dn,ovB_dn = vecsB2[:,:8], vecsB2[:,8:]"
   ]
  },
  {
   "cell_type": "code",
   "execution_count": 679,
   "id": "7d2c44ff-0c9a-46a0-8ef9-9b70f3a275ac",
   "metadata": {},
   "outputs": [
    {
     "data": {
      "text/plain": [
       "np.float64(-11.39629313609467)"
      ]
     },
     "execution_count": 679,
     "metadata": {},
     "output_type": "execute_result"
    }
   ],
   "source": [
    "o_up,o_dn = ofB_up,ofB_dn\n",
    "g_up,g_dn = greens_1body(o_up),greens_1body(o_dn)\n",
    "\n",
    "U=3.5\n",
    "np.sum((Tup)*g_up)+np.sum((g_dn)*Tdn)+ U*(g_up.diagonal()@g_dn.diagonal())"
   ]
  },
  {
   "cell_type": "markdown",
   "id": "a7451d83-0a6a-44e9-9e59-c95b9e36a734",
   "metadata": {},
   "source": [
    "This seems to accidentally work"
   ]
  },
  {
   "cell_type": "code",
   "execution_count": 680,
   "id": "03935038-6ee2-4264-a027-4276180b9914",
   "metadata": {},
   "outputs": [
    {
     "data": {
      "text/plain": [
       "np.float64(-11.396293136094672)"
      ]
     },
     "execution_count": 680,
     "metadata": {},
     "output_type": "execute_result"
    }
   ],
   "source": [
    "o_up,o_dn = signs_v.reshape(N,1)* ovB_up,signs_v.reshape(N,1)* ovB_dn\n",
    "g_up,g_dn =np.eye(N)-greens_1body(o_up)*signs,np.eye(N)-greens_1body(o_dn)*signs\n",
    "\n",
    "U=3.5\n",
    "np.sum(Tup*(g_up))+np.sum((g_dn)*(Tdn))+ U*(g_up.diagonal()@(g_dn.diagonal())) \n"
   ]
  },
  {
   "cell_type": "markdown",
   "id": "9b218453-8ed2-40d5-8c36-e642f0b21550",
   "metadata": {},
   "source": [
    "But \n",
    "$$\n",
    "S_z \\to (1-m_{i\\uparrow} - (1-m_{i\\downarrow})) = -S_z\n",
    "$$"
   ]
  },
  {
   "cell_type": "code",
   "execution_count": 681,
   "id": "c92ec6bb-ee54-48b9-8b23-3e9e75d120e5",
   "metadata": {},
   "outputs": [
    {
     "data": {
      "text/plain": [
       "np.float64(-11.33575040704775)"
      ]
     },
     "execution_count": 681,
     "metadata": {},
     "output_type": "execute_result"
    }
   ],
   "source": [
    "o_up,o_dn = signs_v.reshape(N,1)* ovB_up,signs_v.reshape(N,1)* ovB_dn\n",
    "g_up,g_dn =np.eye(N)-greens_1body(o_up)*signs,np.eye(N)-greens_1body(o_dn)*signs\n",
    "\n",
    "U=3.5\n",
    "Tup2,Tdn2 = T-np.diag(h_i), T+np.diag(h_i)\n",
    "\n",
    "np.sum((Tup2)*(g_up))+np.sum((g_dn)*(Tdn2))+ U*(g_up.diagonal()@(g_dn.diagonal())) \n"
   ]
  },
  {
   "cell_type": "markdown",
   "id": "af5b00ba-6b8c-42f8-b70c-4d72eba6291a",
   "metadata": {},
   "source": [
    "The Partial transform should be then\n",
    "\n",
    "$$\n",
    "S_z \\to (n_{i\\uparrow} - (1-m_{i\\downarrow}))\n",
    "$$"
   ]
  },
  {
   "cell_type": "code",
   "execution_count": 682,
   "id": "2c3e208b-b71c-472f-a824-3e103dd3339e",
   "metadata": {},
   "outputs": [
    {
     "data": {
      "text/plain": [
       "np.float64(-11.366021771571209)"
      ]
     },
     "execution_count": 682,
     "metadata": {},
     "output_type": "execute_result"
    }
   ],
   "source": [
    "signs_v = (-1)**(np.array([np.sum(s.coord)  for s in lattice.sites]))\n",
    "o_up,o_dn = ofB_up,signs_v.reshape(N,1)* ovB_dn\n",
    "signs = np.outer(signs_v,signs_v)\n",
    "\n",
    "g_up,g_dn = greens_1body(o_up),np.eye(N)-signs*greens_1body(o_dn)\n",
    "\n",
    "U=3.5\n",
    "Tup2,Tdn2 = T+np.diag(h_i), T+np.diag(h_i)\n",
    "\n",
    "np.sum((Tup2)*(g_up))+np.sum((g_dn)*(Tdn2))+ U*(g_up.diagonal()@(g_dn.diagonal()))+ -np.sum(h_i)\n"
   ]
  }
 ],
 "metadata": {
  "kernelspec": {
   "display_name": "Python 3 (ipykernel)",
   "language": "python",
   "name": "python3"
  },
  "language_info": {
   "codemirror_mode": {
    "name": "ipython",
    "version": 3
   },
   "file_extension": ".py",
   "mimetype": "text/x-python",
   "name": "python",
   "nbconvert_exporter": "python",
   "pygments_lexer": "ipython3",
   "version": "3.10.6"
  }
 },
 "nbformat": 4,
 "nbformat_minor": 5
}
